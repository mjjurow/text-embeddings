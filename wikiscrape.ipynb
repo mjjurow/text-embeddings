{
 "cells": [
  {
   "cell_type": "code",
   "execution_count": 3,
   "id": "6a7eadca",
   "metadata": {},
   "outputs": [],
   "source": [
    "import wikipediaapi\n",
    "import os"
   ]
  },
  {
   "cell_type": "code",
   "execution_count": 9,
   "id": "ba34591e",
   "metadata": {},
   "outputs": [],
   "source": [
    "# Directory to save articles\n",
    "save_directory = \"wikipedia_articles\""
   ]
  },
  {
   "cell_type": "code",
   "execution_count": 10,
   "id": "d37a0e55",
   "metadata": {},
   "outputs": [],
   "source": [
    "# Ensure the directory exists\n",
    "os.makedirs(save_directory, exist_ok=True)"
   ]
  },
  {
   "cell_type": "code",
   "execution_count": 12,
   "id": "385cc6b7",
   "metadata": {},
   "outputs": [],
   "source": [
    "# List of articles to download\n",
    "articles_to_download = [\n",
    "    \"Natural language processing\",\n",
    "    \"Artificial intelligence\",\n",
    "    \"Machine learning\",\n",
    "    \"Deep learning\",\n",
    "    \"Neural network\",\n",
    "    \"Cats\",\n",
    "    \"Lions\",\n",
    "    \"Tigers\",\n",
    "    \"Bears\"\n",
    "]"
   ]
  },
  {
   "cell_type": "code",
   "execution_count": 13,
   "id": "53322fff",
   "metadata": {},
   "outputs": [
    {
     "ename": "NameError",
     "evalue": "name 'wiki_wiki' is not defined",
     "output_type": "error",
     "traceback": [
      "\u001b[0;31m---------------------------------------------------------------------------\u001b[0m",
      "\u001b[0;31mNameError\u001b[0m                                 Traceback (most recent call last)",
      "Cell \u001b[0;32mIn[13], line 2\u001b[0m\n\u001b[1;32m      1\u001b[0m \u001b[38;5;66;03m# Modify the session headers to include a custom User-Agent\u001b[39;00m\n\u001b[0;32m----> 2\u001b[0m wiki_wiki\u001b[38;5;241m.\u001b[39msession\u001b[38;5;241m.\u001b[39mheaders\u001b[38;5;241m.\u001b[39mupdate({\n\u001b[1;32m      3\u001b[0m     \u001b[38;5;124m'\u001b[39m\u001b[38;5;124mUser-Agent\u001b[39m\u001b[38;5;124m'\u001b[39m: \u001b[38;5;124m\"\u001b[39m\u001b[38;5;124mVectorizationMJJ/1.0 (https://yourwebsite.com/vectorizationmjj/; mjurow@matthewjurow.com) python-requests/2.x\u001b[39m\u001b[38;5;124m\"\u001b[39m\n\u001b[1;32m      4\u001b[0m })\n",
      "\u001b[0;31mNameError\u001b[0m: name 'wiki_wiki' is not defined"
     ]
    }
   ],
   "source": [
    "# Modify the session headers to include a custom User-Agent\n",
    "wiki_wiki.session.headers.update({\n",
    "    'User-Agent': \"VectorizationMJJ/1.0 (https://yourwebsite.com/vectorizationmjj/; mjurow@matthewjurow.com) python-requests/2.x\"\n",
    "})"
   ]
  },
  {
   "cell_type": "code",
   "execution_count": 15,
   "id": "e27a8d34",
   "metadata": {},
   "outputs": [],
   "source": [
    "# User-Agent\n",
    "USER_AGENT = \"VectorizationMJJ/1.0 (https://www.matthewjurow.com/; mjurow@matthewjurow.com) python-requests/2.x\""
   ]
  },
  {
   "cell_type": "code",
   "execution_count": 16,
   "id": "08dc0dcf",
   "metadata": {},
   "outputs": [],
   "source": [
    "# Initialize Wikipedia API with a proper User-Agent\n",
    "wiki_wiki = wikipediaapi.Wikipedia(\n",
    "    language='en',\n",
    "    user_agent=USER_AGENT\n",
    ")"
   ]
  },
  {
   "cell_type": "code",
   "execution_count": 17,
   "id": "7355cd74",
   "metadata": {},
   "outputs": [],
   "source": [
    "# Function to save article content to a file\n",
    "def save_article(article_name, content):\n",
    "    # Clean the article name to use as a filename\n",
    "    safe_name = article_name.replace(\" \", \"_\").replace(\"/\", \"_\")\n",
    "    file_path = os.path.join(save_directory, f\"{safe_name}.txt\")\n",
    "    \n",
    "    with open(file_path, 'w', encoding='utf-8') as f:\n",
    "        f.write(content)\n",
    "    \n",
    "    print(f\"Saved: {file_path}\")"
   ]
  },
  {
   "cell_type": "code",
   "execution_count": 18,
   "id": "e4c03bdb",
   "metadata": {},
   "outputs": [
    {
     "name": "stdout",
     "output_type": "stream",
     "text": [
      "Saved: wikipedia_articles/Natural_language_processing.txt\n",
      "Saved: wikipedia_articles/Artificial_intelligence.txt\n",
      "Saved: wikipedia_articles/Machine_learning.txt\n",
      "Saved: wikipedia_articles/Deep_learning.txt\n",
      "Saved: wikipedia_articles/Neural_network.txt\n",
      "Saved: wikipedia_articles/Cats.txt\n",
      "Saved: wikipedia_articles/Lions.txt\n",
      "Saved: wikipedia_articles/Tigers.txt\n",
      "Saved: wikipedia_articles/Bears.txt\n",
      "Download complete.\n"
     ]
    }
   ],
   "source": [
    "# Download and save each article\n",
    "for article_name in articles_to_download:\n",
    "    page = wiki_wiki.page(article_name)\n",
    "    \n",
    "    if page.exists():\n",
    "        content = page.text\n",
    "        save_article(article_name, content)\n",
    "    else:\n",
    "        print(f\"Article '{article_name}' does not exist on Wikipedia.\")\n",
    "\n",
    "print(\"Download complete.\")"
   ]
  }
 ],
 "metadata": {
  "kernelspec": {
   "display_name": "Python 3 (ipykernel)",
   "language": "python",
   "name": "python3"
  },
  "language_info": {
   "codemirror_mode": {
    "name": "ipython",
    "version": 3
   },
   "file_extension": ".py",
   "mimetype": "text/x-python",
   "name": "python",
   "nbconvert_exporter": "python",
   "pygments_lexer": "ipython3",
   "version": "3.11.5"
  }
 },
 "nbformat": 4,
 "nbformat_minor": 5
}
